{
  "cells": [
    {
      "cell_type": "code",
      "execution_count": null,
      "metadata": {
        "colab": {
          "base_uri": "https://localhost:8080/"
        },
        "id": "uoiwLSY2WDhr",
        "outputId": "7a8c9731-d272-4edb-8141-e40f877f3d8b"
      },
      "outputs": [
        {
          "output_type": "stream",
          "name": "stdout",
          "text": [
            "Mounted at /content/gdrive/\n"
          ]
        }
      ],
      "source": [
        "from google.colab import drive\n",
        "drive.mount('/content/gdrive/')"
      ]
    },
    {
      "cell_type": "code",
      "execution_count": null,
      "metadata": {
        "id": "iGqc5pLhXGLq"
      },
      "outputs": [],
      "source": [
        "import numpy as np\n",
        "import torch\n",
        "import torch.nn as nn\n",
        "from torchvision import transforms\n",
        "from torchsummary import summary\n",
        "import pickle\n",
        "import matplotlib.pyplot as plt\n",
        "import librosa\n",
        "\n",
        "from tqdm import tqdm_notebook\n",
        "import os\n",
        "import sys\n",
        "from pathlib import Path\n",
        "from datetime import datetime"
      ]
    },
    {
      "cell_type": "markdown",
      "metadata": {
        "id": "-XRoQlfz6El9"
      },
      "source": [
        "# Data gaining"
      ]
    },
    {
      "cell_type": "code",
      "source": [
        "!unzip -q /content/gdrive/MyDrive/data_2.zip"
      ],
      "metadata": {
        "id": "5LFTi0_lO2BW"
      },
      "execution_count": null,
      "outputs": []
    },
    {
      "cell_type": "code",
      "source": [
        "ROOT = \"data_2/\"\n",
        "ALL_SOUNDS = list(Path(ROOT).glob(\"**/*.wav\"))\n",
        "ALL_SOUNDS = list(filter(lambda x: not x.name.startswith(\".\"), ALL_SOUNDS))\n",
        "print(\"Number of sounds:\", len(ALL_SOUNDS))"
      ],
      "metadata": {
        "id": "TMlR2BmNWeKt",
        "colab": {
          "base_uri": "https://localhost:8080/"
        },
        "outputId": "6b14f8b3-441c-40be-b8d1-00fad53d5bbb"
      },
      "execution_count": null,
      "outputs": [
        {
          "output_type": "stream",
          "name": "stdout",
          "text": [
            "Number of sounds: 97377\n"
          ]
        }
      ]
    },
    {
      "cell_type": "code",
      "execution_count": null,
      "metadata": {
        "id": "HWFbjH0g5v0C"
      },
      "outputs": [],
      "source": [
        "data_list = []\n",
        "with open('/content/gdrive/MyDrive/data_base_2.pickle', 'rb') as fh:\n",
        "  data_list = pickle.load(fh)"
      ]
    },
    {
      "cell_type": "code",
      "source": [
        "len(data_list)"
      ],
      "metadata": {
        "id": "ZdL3KOAqrm7M",
        "colab": {
          "base_uri": "https://localhost:8080/"
        },
        "outputId": "7376491f-d5b2-49a1-d895-83f536eb8277"
      },
      "execution_count": null,
      "outputs": [
        {
          "output_type": "execute_result",
          "data": {
            "text/plain": [
              "97377"
            ]
          },
          "metadata": {},
          "execution_count": 6
        }
      ]
    },
    {
      "cell_type": "code",
      "source": [
        "np.random.seed(123456)\n",
        "torch.manual_seed(123456)"
      ],
      "metadata": {
        "colab": {
          "base_uri": "https://localhost:8080/"
        },
        "id": "D6KGevO-MI45",
        "outputId": "8b10be3e-0f79-4430-999c-ee40281811c0"
      },
      "execution_count": null,
      "outputs": [
        {
          "output_type": "execute_result",
          "data": {
            "text/plain": [
              "<torch._C.Generator at 0x7fc6322594d0>"
            ]
          },
          "metadata": {},
          "execution_count": 165
        }
      ]
    },
    {
      "cell_type": "markdown",
      "metadata": {
        "id": "x_vEkkhb5_cb"
      },
      "source": [
        "# Data preporation"
      ]
    },
    {
      "cell_type": "code",
      "execution_count": null,
      "metadata": {
        "id": "rrtGYnpZzlVB"
      },
      "outputs": [],
      "source": [
        "class SoundDataset(torch.utils.data.Dataset):\n",
        "    def __init__(self, rootdir, subset, transform=None):\n",
        "        self.transform = transform\n",
        "        self.rootdir = rootdir\n",
        "        self.subset = subset\n",
        "\n",
        "    def __getitem__(self, index):\n",
        "        xname, y = self.subset[index].values()\n",
        "        X, _ = librosa.load(f\"{self.rootdir}/{xname}.wav\", sr=8000)\n",
        "        if self.transform:\n",
        "            X = torch.unsqueeze(self.transform(X.astype('float32')), 0)\n",
        "            y = torch.unsqueeze(self.transform(y.astype('float32')), 0)\n",
        "        return X, y\n",
        "\n",
        "    def __len__(self):\n",
        "        return len(self.subset)\n",
        "\n",
        "class ToTensor(object):\n",
        "    def __call__(self, sample):\n",
        "        return torch.from_numpy(sample)"
      ]
    },
    {
      "cell_type": "code",
      "execution_count": null,
      "metadata": {
        "id": "2byu_Mz70iep"
      },
      "outputs": [],
      "source": [
        "def sound_show(inp, title=None):\n",
        "    inp = torch.squeeze(inp).numpy()\n",
        "    print(inp)\n",
        "    time = np.linspace(0., inp.size/8000, inp.size)\n",
        "    plt.figure(figsize=(16, 8))\n",
        "    plt.plot(time, inp)\n",
        "    plt.title(title)\n",
        "    plt.show()"
      ]
    },
    {
      "cell_type": "code",
      "execution_count": null,
      "metadata": {
        "id": "KSxqg8Cc054W",
        "colab": {
          "base_uri": "https://localhost:8080/",
          "height": 537
        },
        "outputId": "3dc61d2f-ab63-473d-b1ea-0d65e0076f44"
      },
      "outputs": [
        {
          "output_type": "stream",
          "name": "stdout",
          "text": [
            "{'train': 78300, 'valid': 8700, 'test': 10377}\n",
            "[-0.04822356  0.01343265 -0.01072492 ...  0.01078868 -0.11634375\n",
            " -0.0239173 ]\n"
          ]
        },
        {
          "output_type": "display_data",
          "data": {
            "text/plain": [
              "<Figure size 1152x576 with 1 Axes>"
            ],
            "image/png": "[encoded data removed]"
          },
          "metadata": {
            "needs_background": "light"
          }
        }
      ],
      "source": [
        "path_data = '/content/data_2'\n",
        "\n",
        "end_idx_tv = 87000\n",
        "train_valid_subset = data_list[:end_idx_tv]\n",
        "test_subset = data_list[end_idx_tv:]\n",
        "\n",
        "lengths = [int(len(train_valid_subset) * 0.9), int(len(train_valid_subset) * 0.1)]\n",
        "train_subset, valid_subset = torch.utils.data.random_split(train_valid_subset, lengths)\n",
        "\n",
        "transform_baseline = transforms.Compose([ToTensor()])\n",
        "data_set = {\n",
        "            'train': SoundDataset(rootdir=path_data, subset=train_subset, transform=transform_baseline),\n",
        "            'valid': SoundDataset(rootdir=path_data, subset=valid_subset, transform=transform_baseline),\n",
        "            'test': SoundDataset(rootdir=path_data, subset=test_subset, transform=transform_baseline)\n",
        "           }\n",
        "\n",
        "batch_size = 512\n",
        "loaders = {\n",
        "            'train': torch.utils.data.DataLoader(data_set['train'], batch_size=batch_size, shuffle=True),\n",
        "            'valid': torch.utils.data.DataLoader(data_set['valid'], batch_size=batch_size, shuffle=True),\n",
        "            'test': torch.utils.data.DataLoader(data_set['test'], batch_size=batch_size, shuffle=False)\n",
        "          }\n",
        "\n",
        "dataset_sizes = {x: len(data_set[x]) for x in ['train', 'valid', 'test']}\n",
        "X, y = data_set['train'][0]\n",
        "print(dataset_sizes)\n",
        "sound_show(X, title=None)"
      ]
    },
    {
      "cell_type": "markdown",
      "source": [
        "# Models init"
      ],
      "metadata": {
        "id": "LToARac2U6ey"
      }
    },
    {
      "cell_type": "code",
      "execution_count": null,
      "metadata": {
        "colab": {
          "base_uri": "https://localhost:8080/"
        },
        "id": "3lxmAK4B62qF",
        "outputId": "f650bd9a-06ee-4ce6-e2b4-ea0e62c7259e"
      },
      "outputs": [
        {
          "output_type": "execute_result",
          "data": {
            "text/plain": [
              "device(type='cuda')"
            ]
          },
          "metadata": {},
          "execution_count": 169
        }
      ],
      "source": [
        "device = torch.device('cuda') if torch.cuda.is_available() else torch.device('cpu')\n",
        "device"
      ]
    },
    {
      "cell_type": "code",
      "execution_count": null,
      "metadata": {
        "id": "3eErbHPQzpl_"
      },
      "outputs": [],
      "source": [
        "class ConvConvT1D(nn.Module):\n",
        "    def __init__(self):\n",
        "        super().__init__()\n",
        "        self.conv_layers = nn.Sequential(\n",
        "            nn.Conv1d(in_channels=1, out_channels=64, kernel_size=101,\n",
        "                      stride=20, padding=50),\n",
        "            nn.Dropout(p=0.7),\n",
        "            nn.LeakyReLU(negative_slope=0.2),\n",
        "            nn.BatchNorm1d(num_features=64),\n",
        "\n",
        "            nn.Conv1d(in_channels=64, out_channels=128, kernel_size=101,\n",
        "                      stride=20, padding=50),\n",
        "            nn.Dropout(p=0.7),\n",
        "            nn.LeakyReLU(negative_slope=0.2),\n",
        "            nn.BatchNorm1d(num_features=128),\n",
        "\n",
        "            nn.Conv1d(in_channels=128, out_channels=256, kernel_size=101,\n",
        "                      stride=20, padding=50),\n",
        "            nn.Dropout(p=0.7),\n",
        "            nn.LeakyReLU(negative_slope=0.2),\n",
        "            nn.BatchNorm1d(num_features=256),\n",
        "        )\n",
        "\n",
        "        self.convT_layers = nn.Sequential(\n",
        "            nn.ConvTranspose1d(in_channels=256,\n",
        "                               out_channels=128,\n",
        "                               kernel_size=101,\n",
        "                               stride=20,\n",
        "                               padding=50,\n",
        "                               output_padding=19),\n",
        "            nn.Dropout(p=0.7),\n",
        "            nn.LeakyReLU(negative_slope=0.2),\n",
        "            nn.BatchNorm1d(num_features=128),\n",
        "            nn.ConvTranspose1d(in_channels=128,\n",
        "                               out_channels=64,\n",
        "                               kernel_size=101,\n",
        "                               stride=20,\n",
        "                               padding=50,\n",
        "                               output_padding=19),\n",
        "            nn.Dropout(p=0.7),\n",
        "            nn.LeakyReLU(negative_slope=0.2),\n",
        "            nn.BatchNorm1d(num_features=64),\n",
        "            nn.ConvTranspose1d(in_channels=64,\n",
        "                               out_channels=1,\n",
        "                               kernel_size=101,\n",
        "                               stride=20,\n",
        "                               padding=50,\n",
        "                               output_padding=19),\n",
        "        )\n",
        "\n",
        "    def forward(self, x):\n",
        "        return self.convT_layers(self.conv_layers(x))\n",
        "\n",
        "class ConvConvT2D(nn.Module):\n",
        "    def __init__(self):\n",
        "        super().__init__()\n",
        "        self.conv_layers = nn.Sequential(\n",
        "            nn.Conv2d(in_channels=1,\n",
        "                      out_channels=64,\n",
        "                      kernel_size=(20, 5),\n",
        "                      stride=(10, 2),\n",
        "                      padding=(10, 2)),\n",
        "            nn.Dropout(p=0.7),\n",
        "            nn.LeakyReLU(negative_slope=0.2),\n",
        "            nn.BatchNorm2d(num_features=64),\n",
        "            nn.Conv2d(in_channels=64,\n",
        "                      out_channels=128,\n",
        "                      kernel_size=(3, 3),\n",
        "                      stride=(2, 2),\n",
        "                      padding=(1, 1)),\n",
        "            nn.Dropout(p=0.7),\n",
        "            nn.LeakyReLU(negative_slope=0.2),\n",
        "            nn.BatchNorm2d(num_features=128),\n",
        "            nn.Conv2d(in_channels=128,\n",
        "                      out_channels=256,\n",
        "                      kernel_size=(13, 3),\n",
        "                      stride=(1, 2),\n",
        "                      padding=(0, 1)),\n",
        "            nn.Dropout(p=0.7),\n",
        "            nn.LeakyReLU(negative_slope=0.2),\n",
        "            nn.BatchNorm2d(num_features=256),\n",
        "        )\n",
        "\n",
        "        self.convT_layers = nn.Sequential(\n",
        "            nn.ConvTranspose1d(in_channels=256,\n",
        "                               out_channels=128,\n",
        "                               kernel_size=101,\n",
        "                               stride=10,\n",
        "                               padding=50,\n",
        "                               output_padding=9),\n",
        "            nn.Dropout(p=0.7),\n",
        "            nn.LeakyReLU(negative_slope=0.2),\n",
        "            nn.BatchNorm1d(num_features=128),\n",
        "            nn.ConvTranspose1d(in_channels=128,\n",
        "                               out_channels=64,\n",
        "                               kernel_size=101,\n",
        "                               stride=10,\n",
        "                               padding=50,\n",
        "                               output_padding=9),\n",
        "            nn.Dropout(p=0.7),\n",
        "            nn.LeakyReLU(negative_slope=0.2),\n",
        "            nn.BatchNorm1d(num_features=64),\n",
        "            nn.ConvTranspose1d(in_channels=64,\n",
        "                               out_channels=1,\n",
        "                               kernel_size=101,\n",
        "                               stride=20,\n",
        "                               padding=50,\n",
        "                               output_padding=19),\n",
        "        )\n",
        "\n",
        "    def forward(self, x):\n",
        "        return self.convT_layers(torch.squeeze(self.conv_layers(x), -2))"
      ]
    },
    {
      "cell_type": "code",
      "execution_count": null,
      "metadata": {
        "id": "XMDKLejw0jBV"
      },
      "outputs": [],
      "source": [
        "def init_weights(m):\n",
        "    if type(m) in (nn.Conv1d, nn.Conv2d, nn.ConvTranspose1d):\n",
        "        nn.init.kaiming_uniform_(m.weight, a=0.2, nonlinearity='leaky_relu')\n",
        "    else:\n",
        "        print('Not setting weights for type {}'.format(type(m)))"
      ]
    },
    {
      "cell_type": "code",
      "source": [
        "model = ConvConvT1D().cuda()\n",
        "model.apply(init_weights)"
      ],
      "metadata": {
        "colab": {
          "base_uri": "https://localhost:8080/"
        },
        "id": "PcJnx7cJq4cm",
        "outputId": "4134ee93-57b2-4f67-99cf-e542624315f2"
      },
      "execution_count": null,
      "outputs": [
        {
          "output_type": "stream",
          "name": "stdout",
          "text": [
            "Not setting weights for type <class 'torch.nn.modules.dropout.Dropout'>\n",
            "Not setting weights for type <class 'torch.nn.modules.activation.LeakyReLU'>\n",
            "Not setting weights for type <class 'torch.nn.modules.batchnorm.BatchNorm1d'>\n",
            "Not setting weights for type <class 'torch.nn.modules.dropout.Dropout'>\n",
            "Not setting weights for type <class 'torch.nn.modules.activation.LeakyReLU'>\n",
            "Not setting weights for type <class 'torch.nn.modules.batchnorm.BatchNorm1d'>\n",
            "Not setting weights for type <class 'torch.nn.modules.dropout.Dropout'>\n",
            "Not setting weights for type <class 'torch.nn.modules.activation.LeakyReLU'>\n",
            "Not setting weights for type <class 'torch.nn.modules.batchnorm.BatchNorm1d'>\n",
            "Not setting weights for type <class 'torch.nn.modules.container.Sequential'>\n",
            "Not setting weights for type <class 'torch.nn.modules.dropout.Dropout'>\n",
            "Not setting weights for type <class 'torch.nn.modules.activation.LeakyReLU'>\n",
            "Not setting weights for type <class 'torch.nn.modules.batchnorm.BatchNorm1d'>\n",
            "Not setting weights for type <class 'torch.nn.modules.dropout.Dropout'>\n",
            "Not setting weights for type <class 'torch.nn.modules.activation.LeakyReLU'>\n",
            "Not setting weights for type <class 'torch.nn.modules.batchnorm.BatchNorm1d'>\n",
            "Not setting weights for type <class 'torch.nn.modules.container.Sequential'>\n",
            "Not setting weights for type <class '__main__.ConvConvT1D'>\n"
          ]
        },
        {
          "output_type": "execute_result",
          "data": {
            "text/plain": [
              "ConvConvT1D(\n",
              "  (conv_layers): Sequential(\n",
              "    (0): Conv1d(1, 64, kernel_size=(101,), stride=(20,), padding=(50,))\n",
              "    (1): Dropout(p=0.7, inplace=False)\n",
              "    (2): LeakyReLU(negative_slope=0.2)\n",
              "    (3): BatchNorm1d(64, eps=1e-05, momentum=0.1, affine=True, track_running_stats=True)\n",
              "    (4): Conv1d(64, 128, kernel_size=(101,), stride=(20,), padding=(50,))\n",
              "    (5): Dropout(p=0.7, inplace=False)\n",
              "    (6): LeakyReLU(negative_slope=0.2)\n",
              "    (7): BatchNorm1d(128, eps=1e-05, momentum=0.1, affine=True, track_running_stats=True)\n",
              "    (8): Conv1d(128, 256, kernel_size=(101,), stride=(20,), padding=(50,))\n",
              "    (9): Dropout(p=0.7, inplace=False)\n",
              "    (10): LeakyReLU(negative_slope=0.2)\n",
              "    (11): BatchNorm1d(256, eps=1e-05, momentum=0.1, affine=True, track_running_stats=True)\n",
              "  )\n",
              "  (convT_layers): Sequential(\n",
              "    (0): ConvTranspose1d(256, 128, kernel_size=(101,), stride=(20,), padding=(50,), output_padding=(19,))\n",
              "    (1): Dropout(p=0.7, inplace=False)\n",
              "    (2): LeakyReLU(negative_slope=0.2)\n",
              "    (3): BatchNorm1d(128, eps=1e-05, momentum=0.1, affine=True, track_running_stats=True)\n",
              "    (4): ConvTranspose1d(128, 64, kernel_size=(101,), stride=(20,), padding=(50,), output_padding=(19,))\n",
              "    (5): Dropout(p=0.7, inplace=False)\n",
              "    (6): LeakyReLU(negative_slope=0.2)\n",
              "    (7): BatchNorm1d(64, eps=1e-05, momentum=0.1, affine=True, track_running_stats=True)\n",
              "    (8): ConvTranspose1d(64, 1, kernel_size=(101,), stride=(20,), padding=(50,), output_padding=(19,))\n",
              "  )\n",
              ")"
            ]
          },
          "metadata": {},
          "execution_count": 172
        }
      ]
    },
    {
      "cell_type": "code",
      "source": [
        "summary(model.cuda(), (1, 48000))"
      ],
      "metadata": {
        "colab": {
          "base_uri": "https://localhost:8080/"
        },
        "id": "JTiYvYSVVZv9",
        "outputId": "835a5795-baa5-4180-9e20-3a931d651f1b"
      },
      "execution_count": null,
      "outputs": [
        {
          "output_type": "stream",
          "name": "stdout",
          "text": [
            "----------------------------------------------------------------\n",
            "        Layer (type)               Output Shape         Param #\n",
            "================================================================\n",
            "            Conv1d-1             [-1, 64, 2400]           6,528\n",
            "           Dropout-2             [-1, 64, 2400]               0\n",
            "         LeakyReLU-3             [-1, 64, 2400]               0\n",
            "       BatchNorm1d-4             [-1, 64, 2400]             128\n",
            "            Conv1d-5             [-1, 128, 120]         827,520\n",
            "           Dropout-6             [-1, 128, 120]               0\n",
            "         LeakyReLU-7             [-1, 128, 120]               0\n",
            "       BatchNorm1d-8             [-1, 128, 120]             256\n",
            "            Conv1d-9               [-1, 256, 6]       3,309,824\n",
            "          Dropout-10               [-1, 256, 6]               0\n",
            "        LeakyReLU-11               [-1, 256, 6]               0\n",
            "      BatchNorm1d-12               [-1, 256, 6]             512\n",
            "  ConvTranspose1d-13             [-1, 128, 120]       3,309,696\n",
            "          Dropout-14             [-1, 128, 120]               0\n",
            "        LeakyReLU-15             [-1, 128, 120]               0\n",
            "      BatchNorm1d-16             [-1, 128, 120]             256\n",
            "  ConvTranspose1d-17             [-1, 64, 2400]         827,456\n",
            "          Dropout-18             [-1, 64, 2400]               0\n",
            "        LeakyReLU-19             [-1, 64, 2400]               0\n",
            "      BatchNorm1d-20             [-1, 64, 2400]             128\n",
            "  ConvTranspose1d-21             [-1, 1, 48000]           6,465\n",
            "================================================================\n",
            "Total params: 8,288,769\n",
            "Trainable params: 8,288,769\n",
            "Non-trainable params: 0\n",
            "----------------------------------------------------------------\n",
            "Input size (MB): 0.18\n",
            "Forward/backward pass size (MB): 10.73\n",
            "Params size (MB): 31.62\n",
            "Estimated Total Size (MB): 42.53\n",
            "----------------------------------------------------------------\n"
          ]
        }
      ]
    },
    {
      "cell_type": "code",
      "source": [
        "def save(path):\n",
        "    torch.save({\n",
        "        'epoch': epoch,\n",
        "        'model_state_dict': model.state_dict(),\n",
        "        'optimizer_state_dict': optim.state_dict(),\n",
        "        'scheduler_state_dict': scheduler.state_dict(),\n",
        "        'train_loss_epochs': train_losses,\n",
        "        'valid_loss_epochs': valid_losses,\n",
        "    }, path)"
      ],
      "metadata": {
        "id": "YsEWAbvkHoTI"
      },
      "execution_count": null,
      "outputs": []
    },
    {
      "cell_type": "code",
      "source": [
        "model_name = 'baseline'\n",
        "savedir = '/content/gdrive/MyDrive'\n",
        "best_path = None\n",
        "\n",
        "max_lr = 0.05\n",
        "div_factor = 250\n",
        "weight_decay = 0.0005\n",
        "\n",
        "best_acc = 0\n",
        "bect_epoch = 0\n",
        "epochs = 10\n",
        "\n",
        "loss = nn.BCEWithLogitsLoss(pos_weight=torch.ones(48000, dtype=torch.float16).cuda() * 3).cuda()\n",
        "optim = torch.optim.AdamW(model.parameters(), lr=max_lr / div_factor,\n",
        "                             weight_decay=weight_decay, amsgrad=True)\n",
        "\n",
        "scheduler = torch.optim.lr_scheduler.OneCycleLR(optim, max_lr=max_lr,\n",
        "                                steps_per_epoch=len(loaders['train']),\n",
        "                                epochs=epochs, div_factor=div_factor)"
      ],
      "metadata": {
        "id": "a0-Ri0QTIsJI"
      },
      "execution_count": null,
      "outputs": []
    },
    {
      "cell_type": "markdown",
      "source": [
        "# Model training"
      ],
      "metadata": {
        "id": "DWsETY73MRRY"
      }
    },
    {
      "cell_type": "code",
      "execution_count": null,
      "metadata": {
        "id": "nSIWKdOj0nBD"
      },
      "outputs": [],
      "source": [
        "def train(model, optim, loss, scheduler, dataloader, epoch, device):\n",
        "    total = 0\n",
        "    correct = 0\n",
        "    losses = []\n",
        "\n",
        "    model.train()\n",
        "    for i, batch in enumerate(tqdm_notebook(dataloader)):\n",
        "        signals, marks = batch\n",
        "        signals, marks = signals.cuda(), marks.cuda()\n",
        "        optim.zero_grad()\n",
        "        prediction = model(signals)\n",
        "        loss_batch = loss(prediction, marks)\n",
        "        losses.append(loss_batch.item())\n",
        "        loss_batch.backward()\n",
        "        optim.step()\n",
        "        scheduler.step()\n",
        "\n",
        "        total += signals.shape[0]*signals.shape[2]\n",
        "        correct += (abs(torch.sigmoid(prediction) - marks) < 0.4).sum().item()\n",
        "\n",
        "    return np.mean(losses), 100. * correct / total"
      ]
    },
    {
      "cell_type": "code",
      "execution_count": null,
      "metadata": {
        "id": "FauXTXwl0tAG"
      },
      "outputs": [],
      "source": [
        "def test(model, loss, dataloader, epoch, device, best_acc, model_name='model'):\n",
        "    total = 0\n",
        "    correct = 0\n",
        "    losses = []\n",
        "\n",
        "    model.eval()\n",
        "    with torch.no_grad():\n",
        "        for i, batch in enumerate(tqdm_notebook(dataloader)):\n",
        "            signals, marks = batch\n",
        "            signals, marks = signals.cuda(), marks.cuda()\n",
        "            prediction = model(signals)\n",
        "            loss_batch = loss(prediction, marks)\n",
        "            losses.append(loss_batch.item())\n",
        "\n",
        "            correct += (abs(torch.sigmoid(prediction) - marks) < 0.4).sum().item()\n",
        "            total += signals.shape[0]*signals.shape[2]\n",
        "\n",
        "    return np.mean(losses), 100. * correct / total"
      ]
    },
    {
      "cell_type": "code",
      "source": [
        "def init_model(path=None, isLoad=False):\n",
        "    model = ConvConvT1D().cuda()\n",
        "    loss = nn.BCEWithLogitsLoss(pos_weight=torch.ones(48000, dtype=torch.float16).cuda() * 3).cuda()\n",
        "    optim = torch.optim.AdamW(model.parameters(), lr=max_lr / div_factor,\n",
        "                             weight_decay=weight_decay, amsgrad=True)\n",
        "\n",
        "    scheduler = torch.optim.lr_scheduler.OneCycleLR(optim, max_lr=max_lr,\n",
        "                                steps_per_epoch=len(loaders['train']),\n",
        "                                epochs=epochs, div_factor=div_factor)\n",
        "    epoch = 0\n",
        "    train_losses = []\n",
        "    valid_losses = []\n",
        "    if isLoad:\n",
        "        checkpoint = torch.load(path)\n",
        "        model.load_state_dict(checkpoint['model_state_dict'])\n",
        "        optim.load_state_dict(checkpoint['optimizer_state_dict'])\n",
        "        scheduler.load_state_dict(checkpoint['scheduler_state_dict'])\n",
        "        train_losses = checkpoint['train_loss_epochs']\n",
        "        valid_losses = checkpoint['valid_loss_epochs']\n",
        "        epoch = checkpoint['epoch']\n",
        "        # loss = checkpoint['loss']\n",
        "\n",
        "    return model, loss, optim, scheduler, epoch+1, train_losses, valid_losses\n"
      ],
      "metadata": {
        "id": "ixWiQHXnN4hW"
      },
      "execution_count": null,
      "outputs": []
    },
    {
      "cell_type": "code",
      "execution_count": null,
      "metadata": {
        "id": "OVQWR5eW07bk",
        "colab": {
          "base_uri": "https://localhost:8080/",
          "height": 493,
          "referenced_widgets": [
            "ad907e7f1ea34e77a840cdf3e58b09e2",
            "3bb5e50fdb0e4044869ad1ed73812a47",
            "916ec505eec24b5ab4625e6295e74730",
            "18cdcddc953642ed890d3152b080249f",
            "36be980b68f844c89fb984cdc5ea09a4",
            "db7c8b47dfcf4b299cb3676379a2b26b",
            "f56c56a9a2144d268e826e2e7d498339",
            "17f289faccbc4388b1a7ea1c763bf19a",
            "7d551109ce874e99a854d6e42dc0938f",
            "0542d2cf47f24ce2a3596ef3ede28981",
            "20fc15bc388d48df8cc59e4ae19b9761"
          ]
        },
        "outputId": "4bd433ca-9983-4e3e-dc94-4b585947d24a"
      },
      "outputs": [
        {
          "output_type": "stream",
          "name": "stdout",
          "text": [
            "0\n"
          ]
        },
        {
          "output_type": "stream",
          "name": "stderr",
          "text": [
            "/usr/local/lib/python3.7/dist-packages/ipykernel_launcher.py:7: TqdmDeprecationWarning: This function will be removed in tqdm==5.0.0\n",
            "Please use `tqdm.notebook.tqdm` instead of `tqdm.tqdm_notebook`\n",
            "  import sys\n"
          ]
        },
        {
          "output_type": "display_data",
          "data": {
            "text/plain": [
              "  0%|          | 0/153 [00:00<?, ?it/s]"
            ],
            "application/vnd.jupyter.widget-view+json": {
              "version_major": 2,
              "version_minor": 0,
              "model_id": "ad907e7f1ea34e77a840cdf3e58b09e2"
            }
          },
          "metadata": {}
        },
        {
          "output_type": "error",
          "ename": "KeyboardInterrupt",
          "evalue": "ignored",
          "traceback": [
            "\u001b[0;31m---------------------------------------------------------------------------\u001b[0m",
            "\u001b[0;31mKeyboardInterrupt\u001b[0m                         Traceback (most recent call last)",
            "\u001b[0;32m<ipython-input-189-e3b6df0078b9>\u001b[0m in \u001b[0;36m<module>\u001b[0;34m()\u001b[0m\n\u001b[1;32m     10\u001b[0m \u001b[0;34m\u001b[0m\u001b[0m\n\u001b[1;32m     11\u001b[0m \u001b[0;32mfor\u001b[0m \u001b[0mi\u001b[0m \u001b[0;32min\u001b[0m \u001b[0mrange\u001b[0m\u001b[0;34m(\u001b[0m\u001b[0mepoch\u001b[0m\u001b[0;34m,\u001b[0m \u001b[0mepochs\u001b[0m\u001b[0;34m)\u001b[0m\u001b[0;34m:\u001b[0m\u001b[0;34m\u001b[0m\u001b[0;34m\u001b[0m\u001b[0m\n\u001b[0;32m---> 12\u001b[0;31m     \u001b[0mtrain_loss\u001b[0m\u001b[0;34m,\u001b[0m \u001b[0mtrain_acc\u001b[0m \u001b[0;34m=\u001b[0m \u001b[0mtrain\u001b[0m\u001b[0;34m(\u001b[0m\u001b[0mmodel\u001b[0m\u001b[0;34m,\u001b[0m \u001b[0moptim\u001b[0m\u001b[0;34m,\u001b[0m \u001b[0mloss\u001b[0m\u001b[0;34m,\u001b[0m \u001b[0mscheduler\u001b[0m\u001b[0;34m,\u001b[0m \u001b[0mloaders\u001b[0m\u001b[0;34m[\u001b[0m\u001b[0;34m'train'\u001b[0m\u001b[0;34m]\u001b[0m\u001b[0;34m,\u001b[0m \u001b[0mi\u001b[0m\u001b[0;34m,\u001b[0m \u001b[0mdevice\u001b[0m\u001b[0;34m)\u001b[0m\u001b[0;34m\u001b[0m\u001b[0;34m\u001b[0m\u001b[0m\n\u001b[0m\u001b[1;32m     13\u001b[0m     \u001b[0mtrain_losses\u001b[0m\u001b[0;34m.\u001b[0m\u001b[0mappend\u001b[0m\u001b[0;34m(\u001b[0m\u001b[0mtrain_loss\u001b[0m\u001b[0;34m)\u001b[0m\u001b[0;34m\u001b[0m\u001b[0;34m\u001b[0m\u001b[0m\n\u001b[1;32m     14\u001b[0m \u001b[0;34m\u001b[0m\u001b[0m\n",
            "\u001b[0;32m<ipython-input-176-506ec419ecfe>\u001b[0m in \u001b[0;36mtrain\u001b[0;34m(model, optim, loss, scheduler, dataloader, epoch, device)\u001b[0m\n\u001b[1;32m      5\u001b[0m \u001b[0;34m\u001b[0m\u001b[0m\n\u001b[1;32m      6\u001b[0m     \u001b[0mmodel\u001b[0m\u001b[0;34m.\u001b[0m\u001b[0mtrain\u001b[0m\u001b[0;34m(\u001b[0m\u001b[0;34m)\u001b[0m\u001b[0;34m\u001b[0m\u001b[0;34m\u001b[0m\u001b[0m\n\u001b[0;32m----> 7\u001b[0;31m     \u001b[0;32mfor\u001b[0m \u001b[0mi\u001b[0m\u001b[0;34m,\u001b[0m \u001b[0mbatch\u001b[0m \u001b[0;32min\u001b[0m \u001b[0menumerate\u001b[0m\u001b[0;34m(\u001b[0m\u001b[0mtqdm_notebook\u001b[0m\u001b[0;34m(\u001b[0m\u001b[0mdataloader\u001b[0m\u001b[0;34m)\u001b[0m\u001b[0;34m)\u001b[0m\u001b[0;34m:\u001b[0m\u001b[0;34m\u001b[0m\u001b[0;34m\u001b[0m\u001b[0m\n\u001b[0m\u001b[1;32m      8\u001b[0m         \u001b[0msignals\u001b[0m\u001b[0;34m,\u001b[0m \u001b[0mmarks\u001b[0m \u001b[0;34m=\u001b[0m \u001b[0mbatch\u001b[0m\u001b[0;34m\u001b[0m\u001b[0;34m\u001b[0m\u001b[0m\n\u001b[1;32m      9\u001b[0m         \u001b[0msignals\u001b[0m\u001b[0;34m,\u001b[0m \u001b[0mmarks\u001b[0m \u001b[0;34m=\u001b[0m \u001b[0msignals\u001b[0m\u001b[0;34m.\u001b[0m\u001b[0mcuda\u001b[0m\u001b[0;34m(\u001b[0m\u001b[0;34m)\u001b[0m\u001b[0;34m,\u001b[0m \u001b[0mmarks\u001b[0m\u001b[0;34m.\u001b[0m\u001b[0mcuda\u001b[0m\u001b[0;34m(\u001b[0m\u001b[0;34m)\u001b[0m\u001b[0;34m\u001b[0m\u001b[0;34m\u001b[0m\u001b[0m\n",
            "\u001b[0;32m/usr/local/lib/python3.7/dist-packages/tqdm/notebook.py\u001b[0m in \u001b[0;36m__iter__\u001b[0;34m(self)\u001b[0m\n\u001b[1;32m    256\u001b[0m         \u001b[0;32mtry\u001b[0m\u001b[0;34m:\u001b[0m\u001b[0;34m\u001b[0m\u001b[0;34m\u001b[0m\u001b[0m\n\u001b[1;32m    257\u001b[0m             \u001b[0mit\u001b[0m \u001b[0;34m=\u001b[0m \u001b[0msuper\u001b[0m\u001b[0;34m(\u001b[0m\u001b[0mtqdm_notebook\u001b[0m\u001b[0;34m,\u001b[0m \u001b[0mself\u001b[0m\u001b[0;34m)\u001b[0m\u001b[0;34m.\u001b[0m\u001b[0m__iter__\u001b[0m\u001b[0;34m(\u001b[0m\u001b[0;34m)\u001b[0m\u001b[0;34m\u001b[0m\u001b[0;34m\u001b[0m\u001b[0m\n\u001b[0;32m--> 258\u001b[0;31m             \u001b[0;32mfor\u001b[0m \u001b[0mobj\u001b[0m \u001b[0;32min\u001b[0m \u001b[0mit\u001b[0m\u001b[0;34m:\u001b[0m\u001b[0;34m\u001b[0m\u001b[0;34m\u001b[0m\u001b[0m\n\u001b[0m\u001b[1;32m    259\u001b[0m                 \u001b[0;31m# return super(tqdm...) will not catch exception\u001b[0m\u001b[0;34m\u001b[0m\u001b[0;34m\u001b[0m\u001b[0;34m\u001b[0m\u001b[0m\n\u001b[1;32m    260\u001b[0m                 \u001b[0;32myield\u001b[0m \u001b[0mobj\u001b[0m\u001b[0;34m\u001b[0m\u001b[0;34m\u001b[0m\u001b[0m\n",
            "\u001b[0;32m/usr/local/lib/python3.7/dist-packages/tqdm/std.py\u001b[0m in \u001b[0;36m__iter__\u001b[0;34m(self)\u001b[0m\n\u001b[1;32m   1193\u001b[0m \u001b[0;34m\u001b[0m\u001b[0m\n\u001b[1;32m   1194\u001b[0m         \u001b[0;32mtry\u001b[0m\u001b[0;34m:\u001b[0m\u001b[0;34m\u001b[0m\u001b[0;34m\u001b[0m\u001b[0m\n\u001b[0;32m-> 1195\u001b[0;31m             \u001b[0;32mfor\u001b[0m \u001b[0mobj\u001b[0m \u001b[0;32min\u001b[0m \u001b[0miterable\u001b[0m\u001b[0;34m:\u001b[0m\u001b[0;34m\u001b[0m\u001b[0;34m\u001b[0m\u001b[0m\n\u001b[0m\u001b[1;32m   1196\u001b[0m                 \u001b[0;32myield\u001b[0m \u001b[0mobj\u001b[0m\u001b[0;34m\u001b[0m\u001b[0;34m\u001b[0m\u001b[0m\n\u001b[1;32m   1197\u001b[0m                 \u001b[0;31m# Update and possibly print the progressbar.\u001b[0m\u001b[0;34m\u001b[0m\u001b[0;34m\u001b[0m\u001b[0;34m\u001b[0m\u001b[0m\n",
            "\u001b[0;32m/usr/local/lib/python3.7/dist-packages/torch/utils/data/dataloader.py\u001b[0m in \u001b[0;36m__next__\u001b[0;34m(self)\u001b[0m\n\u001b[1;32m    650\u001b[0m                 \u001b[0;31m# TODO(https://github.com/pytorch/pytorch/issues/76750)\u001b[0m\u001b[0;34m\u001b[0m\u001b[0;34m\u001b[0m\u001b[0;34m\u001b[0m\u001b[0m\n\u001b[1;32m    651\u001b[0m                 \u001b[0mself\u001b[0m\u001b[0;34m.\u001b[0m\u001b[0m_reset\u001b[0m\u001b[0;34m(\u001b[0m\u001b[0;34m)\u001b[0m  \u001b[0;31m# type: ignore[call-arg]\u001b[0m\u001b[0;34m\u001b[0m\u001b[0;34m\u001b[0m\u001b[0m\n\u001b[0;32m--> 652\u001b[0;31m             \u001b[0mdata\u001b[0m \u001b[0;34m=\u001b[0m \u001b[0mself\u001b[0m\u001b[0;34m.\u001b[0m\u001b[0m_next_data\u001b[0m\u001b[0;34m(\u001b[0m\u001b[0;34m)\u001b[0m\u001b[0;34m\u001b[0m\u001b[0;34m\u001b[0m\u001b[0m\n\u001b[0m\u001b[1;32m    653\u001b[0m             \u001b[0mself\u001b[0m\u001b[0;34m.\u001b[0m\u001b[0m_num_yielded\u001b[0m \u001b[0;34m+=\u001b[0m \u001b[0;36m1\u001b[0m\u001b[0;34m\u001b[0m\u001b[0;34m\u001b[0m\u001b[0m\n\u001b[1;32m    654\u001b[0m             \u001b[0;32mif\u001b[0m \u001b[0mself\u001b[0m\u001b[0;34m.\u001b[0m\u001b[0m_dataset_kind\u001b[0m \u001b[0;34m==\u001b[0m \u001b[0m_DatasetKind\u001b[0m\u001b[0;34m.\u001b[0m\u001b[0mIterable\u001b[0m \u001b[0;32mand\u001b[0m\u001b[0;31m \u001b[0m\u001b[0;31m\\\u001b[0m\u001b[0;34m\u001b[0m\u001b[0;34m\u001b[0m\u001b[0m\n",
            "\u001b[0;32m/usr/local/lib/python3.7/dist-packages/torch/utils/data/dataloader.py\u001b[0m in \u001b[0;36m_next_data\u001b[0;34m(self)\u001b[0m\n\u001b[1;32m    690\u001b[0m     \u001b[0;32mdef\u001b[0m \u001b[0m_next_data\u001b[0m\u001b[0;34m(\u001b[0m\u001b[0mself\u001b[0m\u001b[0;34m)\u001b[0m\u001b[0;34m:\u001b[0m\u001b[0;34m\u001b[0m\u001b[0;34m\u001b[0m\u001b[0m\n\u001b[1;32m    691\u001b[0m         \u001b[0mindex\u001b[0m \u001b[0;34m=\u001b[0m \u001b[0mself\u001b[0m\u001b[0;34m.\u001b[0m\u001b[0m_next_index\u001b[0m\u001b[0;34m(\u001b[0m\u001b[0;34m)\u001b[0m  \u001b[0;31m# may raise StopIteration\u001b[0m\u001b[0;34m\u001b[0m\u001b[0;34m\u001b[0m\u001b[0m\n\u001b[0;32m--> 692\u001b[0;31m         \u001b[0mdata\u001b[0m \u001b[0;34m=\u001b[0m \u001b[0mself\u001b[0m\u001b[0;34m.\u001b[0m\u001b[0m_dataset_fetcher\u001b[0m\u001b[0;34m.\u001b[0m\u001b[0mfetch\u001b[0m\u001b[0;34m(\u001b[0m\u001b[0mindex\u001b[0m\u001b[0;34m)\u001b[0m  \u001b[0;31m# may raise StopIteration\u001b[0m\u001b[0;34m\u001b[0m\u001b[0;34m\u001b[0m\u001b[0m\n\u001b[0m\u001b[1;32m    693\u001b[0m         \u001b[0;32mif\u001b[0m \u001b[0mself\u001b[0m\u001b[0;34m.\u001b[0m\u001b[0m_pin_memory\u001b[0m\u001b[0;34m:\u001b[0m\u001b[0;34m\u001b[0m\u001b[0;34m\u001b[0m\u001b[0m\n\u001b[1;32m    694\u001b[0m             \u001b[0mdata\u001b[0m \u001b[0;34m=\u001b[0m \u001b[0m_utils\u001b[0m\u001b[0;34m.\u001b[0m\u001b[0mpin_memory\u001b[0m\u001b[0;34m.\u001b[0m\u001b[0mpin_memory\u001b[0m\u001b[0;34m(\u001b[0m\u001b[0mdata\u001b[0m\u001b[0;34m,\u001b[0m \u001b[0mself\u001b[0m\u001b[0;34m.\u001b[0m\u001b[0m_pin_memory_device\u001b[0m\u001b[0;34m)\u001b[0m\u001b[0;34m\u001b[0m\u001b[0;34m\u001b[0m\u001b[0m\n",
            "\u001b[0;32m/usr/local/lib/python3.7/dist-packages/torch/utils/data/_utils/fetch.py\u001b[0m in \u001b[0;36mfetch\u001b[0;34m(self, possibly_batched_index)\u001b[0m\n\u001b[1;32m     47\u001b[0m     \u001b[0;32mdef\u001b[0m \u001b[0mfetch\u001b[0m\u001b[0;34m(\u001b[0m\u001b[0mself\u001b[0m\u001b[0;34m,\u001b[0m \u001b[0mpossibly_batched_index\u001b[0m\u001b[0;34m)\u001b[0m\u001b[0;34m:\u001b[0m\u001b[0;34m\u001b[0m\u001b[0;34m\u001b[0m\u001b[0m\n\u001b[1;32m     48\u001b[0m         \u001b[0;32mif\u001b[0m \u001b[0mself\u001b[0m\u001b[0;34m.\u001b[0m\u001b[0mauto_collation\u001b[0m\u001b[0;34m:\u001b[0m\u001b[0;34m\u001b[0m\u001b[0;34m\u001b[0m\u001b[0m\n\u001b[0;32m---> 49\u001b[0;31m             \u001b[0mdata\u001b[0m \u001b[0;34m=\u001b[0m \u001b[0;34m[\u001b[0m\u001b[0mself\u001b[0m\u001b[0;34m.\u001b[0m\u001b[0mdataset\u001b[0m\u001b[0;34m[\u001b[0m\u001b[0midx\u001b[0m\u001b[0;34m]\u001b[0m \u001b[0;32mfor\u001b[0m \u001b[0midx\u001b[0m \u001b[0;32min\u001b[0m \u001b[0mpossibly_batched_index\u001b[0m\u001b[0;34m]\u001b[0m\u001b[0;34m\u001b[0m\u001b[0;34m\u001b[0m\u001b[0m\n\u001b[0m\u001b[1;32m     50\u001b[0m         \u001b[0;32melse\u001b[0m\u001b[0;34m:\u001b[0m\u001b[0;34m\u001b[0m\u001b[0;34m\u001b[0m\u001b[0m\n\u001b[1;32m     51\u001b[0m             \u001b[0mdata\u001b[0m \u001b[0;34m=\u001b[0m \u001b[0mself\u001b[0m\u001b[0;34m.\u001b[0m\u001b[0mdataset\u001b[0m\u001b[0;34m[\u001b[0m\u001b[0mpossibly_batched_index\u001b[0m\u001b[0;34m]\u001b[0m\u001b[0;34m\u001b[0m\u001b[0;34m\u001b[0m\u001b[0m\n",
            "\u001b[0;32m/usr/local/lib/python3.7/dist-packages/torch/utils/data/_utils/fetch.py\u001b[0m in \u001b[0;36m<listcomp>\u001b[0;34m(.0)\u001b[0m\n\u001b[1;32m     47\u001b[0m     \u001b[0;32mdef\u001b[0m \u001b[0mfetch\u001b[0m\u001b[0;34m(\u001b[0m\u001b[0mself\u001b[0m\u001b[0;34m,\u001b[0m \u001b[0mpossibly_batched_index\u001b[0m\u001b[0;34m)\u001b[0m\u001b[0;34m:\u001b[0m\u001b[0;34m\u001b[0m\u001b[0;34m\u001b[0m\u001b[0m\n\u001b[1;32m     48\u001b[0m         \u001b[0;32mif\u001b[0m \u001b[0mself\u001b[0m\u001b[0;34m.\u001b[0m\u001b[0mauto_collation\u001b[0m\u001b[0;34m:\u001b[0m\u001b[0;34m\u001b[0m\u001b[0;34m\u001b[0m\u001b[0m\n\u001b[0;32m---> 49\u001b[0;31m             \u001b[0mdata\u001b[0m \u001b[0;34m=\u001b[0m \u001b[0;34m[\u001b[0m\u001b[0mself\u001b[0m\u001b[0;34m.\u001b[0m\u001b[0mdataset\u001b[0m\u001b[0;34m[\u001b[0m\u001b[0midx\u001b[0m\u001b[0;34m]\u001b[0m \u001b[0;32mfor\u001b[0m \u001b[0midx\u001b[0m \u001b[0;32min\u001b[0m \u001b[0mpossibly_batched_index\u001b[0m\u001b[0;34m]\u001b[0m\u001b[0;34m\u001b[0m\u001b[0;34m\u001b[0m\u001b[0m\n\u001b[0m\u001b[1;32m     50\u001b[0m         \u001b[0;32melse\u001b[0m\u001b[0;34m:\u001b[0m\u001b[0;34m\u001b[0m\u001b[0;34m\u001b[0m\u001b[0m\n\u001b[1;32m     51\u001b[0m             \u001b[0mdata\u001b[0m \u001b[0;34m=\u001b[0m \u001b[0mself\u001b[0m\u001b[0;34m.\u001b[0m\u001b[0mdataset\u001b[0m\u001b[0;34m[\u001b[0m\u001b[0mpossibly_batched_index\u001b[0m\u001b[0;34m]\u001b[0m\u001b[0;34m\u001b[0m\u001b[0;34m\u001b[0m\u001b[0m\n",
            "\u001b[0;32m<ipython-input-166-0d705748c0c6>\u001b[0m in \u001b[0;36m__getitem__\u001b[0;34m(self, index)\u001b[0m\n\u001b[1;32m      7\u001b[0m     \u001b[0;32mdef\u001b[0m \u001b[0m__getitem__\u001b[0m\u001b[0;34m(\u001b[0m\u001b[0mself\u001b[0m\u001b[0;34m,\u001b[0m \u001b[0mindex\u001b[0m\u001b[0;34m)\u001b[0m\u001b[0;34m:\u001b[0m\u001b[0;34m\u001b[0m\u001b[0;34m\u001b[0m\u001b[0m\n\u001b[1;32m      8\u001b[0m         \u001b[0mxname\u001b[0m\u001b[0;34m,\u001b[0m \u001b[0my\u001b[0m \u001b[0;34m=\u001b[0m \u001b[0mself\u001b[0m\u001b[0;34m.\u001b[0m\u001b[0msubset\u001b[0m\u001b[0;34m[\u001b[0m\u001b[0mindex\u001b[0m\u001b[0;34m]\u001b[0m\u001b[0;34m.\u001b[0m\u001b[0mvalues\u001b[0m\u001b[0;34m(\u001b[0m\u001b[0;34m)\u001b[0m\u001b[0;34m\u001b[0m\u001b[0;34m\u001b[0m\u001b[0m\n\u001b[0;32m----> 9\u001b[0;31m         \u001b[0mX\u001b[0m\u001b[0;34m,\u001b[0m \u001b[0m_\u001b[0m \u001b[0;34m=\u001b[0m \u001b[0mlibrosa\u001b[0m\u001b[0;34m.\u001b[0m\u001b[0mload\u001b[0m\u001b[0;34m(\u001b[0m\u001b[0;34mf\"{self.rootdir}/{xname}.wav\"\u001b[0m\u001b[0;34m,\u001b[0m \u001b[0msr\u001b[0m\u001b[0;34m=\u001b[0m\u001b[0;36m8000\u001b[0m\u001b[0;34m)\u001b[0m\u001b[0;34m\u001b[0m\u001b[0;34m\u001b[0m\u001b[0m\n\u001b[0m\u001b[1;32m     10\u001b[0m         \u001b[0;32mif\u001b[0m \u001b[0mself\u001b[0m\u001b[0;34m.\u001b[0m\u001b[0mtransform\u001b[0m\u001b[0;34m:\u001b[0m\u001b[0;34m\u001b[0m\u001b[0;34m\u001b[0m\u001b[0m\n\u001b[1;32m     11\u001b[0m             \u001b[0mX\u001b[0m \u001b[0;34m=\u001b[0m \u001b[0mtorch\u001b[0m\u001b[0;34m.\u001b[0m\u001b[0munsqueeze\u001b[0m\u001b[0;34m(\u001b[0m\u001b[0mself\u001b[0m\u001b[0;34m.\u001b[0m\u001b[0mtransform\u001b[0m\u001b[0;34m(\u001b[0m\u001b[0mX\u001b[0m\u001b[0;34m.\u001b[0m\u001b[0mastype\u001b[0m\u001b[0;34m(\u001b[0m\u001b[0;34m'float32'\u001b[0m\u001b[0;34m)\u001b[0m\u001b[0;34m)\u001b[0m\u001b[0;34m,\u001b[0m \u001b[0;36m0\u001b[0m\u001b[0;34m)\u001b[0m\u001b[0;34m\u001b[0m\u001b[0;34m\u001b[0m\u001b[0m\n",
            "\u001b[0;32m/usr/local/lib/python3.7/dist-packages/librosa/core/audio.py\u001b[0m in \u001b[0;36mload\u001b[0;34m(path, sr, mono, offset, duration, dtype, res_type)\u001b[0m\n\u001b[1;32m    147\u001b[0m \u001b[0;34m\u001b[0m\u001b[0m\n\u001b[1;32m    148\u001b[0m     \u001b[0;32mtry\u001b[0m\u001b[0;34m:\u001b[0m\u001b[0;34m\u001b[0m\u001b[0;34m\u001b[0m\u001b[0m\n\u001b[0;32m--> 149\u001b[0;31m         \u001b[0;32mwith\u001b[0m \u001b[0msf\u001b[0m\u001b[0;34m.\u001b[0m\u001b[0mSoundFile\u001b[0m\u001b[0;34m(\u001b[0m\u001b[0mpath\u001b[0m\u001b[0;34m)\u001b[0m \u001b[0;32mas\u001b[0m \u001b[0msf_desc\u001b[0m\u001b[0;34m:\u001b[0m\u001b[0;34m\u001b[0m\u001b[0;34m\u001b[0m\u001b[0m\n\u001b[0m\u001b[1;32m    150\u001b[0m             \u001b[0msr_native\u001b[0m \u001b[0;34m=\u001b[0m \u001b[0msf_desc\u001b[0m\u001b[0;34m.\u001b[0m\u001b[0msamplerate\u001b[0m\u001b[0;34m\u001b[0m\u001b[0;34m\u001b[0m\u001b[0m\n\u001b[1;32m    151\u001b[0m             \u001b[0;32mif\u001b[0m \u001b[0moffset\u001b[0m\u001b[0;34m:\u001b[0m\u001b[0;34m\u001b[0m\u001b[0;34m\u001b[0m\u001b[0m\n",
            "\u001b[0;32m/usr/local/lib/python3.7/dist-packages/soundfile.py\u001b[0m in \u001b[0;36m__init__\u001b[0;34m(self, file, mode, samplerate, channels, subtype, endian, format, closefd)\u001b[0m\n\u001b[1;32m    627\u001b[0m         self._info = _create_info_struct(file, mode, samplerate, channels,\n\u001b[1;32m    628\u001b[0m                                          format, subtype, endian)\n\u001b[0;32m--> 629\u001b[0;31m         \u001b[0mself\u001b[0m\u001b[0;34m.\u001b[0m\u001b[0m_file\u001b[0m \u001b[0;34m=\u001b[0m \u001b[0mself\u001b[0m\u001b[0;34m.\u001b[0m\u001b[0m_open\u001b[0m\u001b[0;34m(\u001b[0m\u001b[0mfile\u001b[0m\u001b[0;34m,\u001b[0m \u001b[0mmode_int\u001b[0m\u001b[0;34m,\u001b[0m \u001b[0mclosefd\u001b[0m\u001b[0;34m)\u001b[0m\u001b[0;34m\u001b[0m\u001b[0;34m\u001b[0m\u001b[0m\n\u001b[0m\u001b[1;32m    630\u001b[0m         \u001b[0;32mif\u001b[0m \u001b[0mset\u001b[0m\u001b[0;34m(\u001b[0m\u001b[0mmode\u001b[0m\u001b[0;34m)\u001b[0m\u001b[0;34m.\u001b[0m\u001b[0missuperset\u001b[0m\u001b[0;34m(\u001b[0m\u001b[0;34m'r+'\u001b[0m\u001b[0;34m)\u001b[0m \u001b[0;32mand\u001b[0m \u001b[0mself\u001b[0m\u001b[0;34m.\u001b[0m\u001b[0mseekable\u001b[0m\u001b[0;34m(\u001b[0m\u001b[0;34m)\u001b[0m\u001b[0;34m:\u001b[0m\u001b[0;34m\u001b[0m\u001b[0;34m\u001b[0m\u001b[0m\n\u001b[1;32m    631\u001b[0m             \u001b[0;31m# Move write position to 0 (like in Python file objects)\u001b[0m\u001b[0;34m\u001b[0m\u001b[0;34m\u001b[0m\u001b[0;34m\u001b[0m\u001b[0m\n",
            "\u001b[0;32m/usr/local/lib/python3.7/dist-packages/soundfile.py\u001b[0m in \u001b[0;36m_open\u001b[0;34m(self, file, mode_int, closefd)\u001b[0m\n\u001b[1;32m   1173\u001b[0m                 \u001b[0;32melse\u001b[0m\u001b[0;34m:\u001b[0m\u001b[0;34m\u001b[0m\u001b[0;34m\u001b[0m\u001b[0m\n\u001b[1;32m   1174\u001b[0m                     \u001b[0mfile\u001b[0m \u001b[0;34m=\u001b[0m \u001b[0mfile\u001b[0m\u001b[0;34m.\u001b[0m\u001b[0mencode\u001b[0m\u001b[0;34m(\u001b[0m\u001b[0m_sys\u001b[0m\u001b[0;34m.\u001b[0m\u001b[0mgetfilesystemencoding\u001b[0m\u001b[0;34m(\u001b[0m\u001b[0;34m)\u001b[0m\u001b[0;34m)\u001b[0m\u001b[0;34m\u001b[0m\u001b[0;34m\u001b[0m\u001b[0m\n\u001b[0;32m-> 1175\u001b[0;31m             \u001b[0mfile_ptr\u001b[0m \u001b[0;34m=\u001b[0m \u001b[0mopenfunction\u001b[0m\u001b[0;34m(\u001b[0m\u001b[0mfile\u001b[0m\u001b[0;34m,\u001b[0m \u001b[0mmode_int\u001b[0m\u001b[0;34m,\u001b[0m \u001b[0mself\u001b[0m\u001b[0;34m.\u001b[0m\u001b[0m_info\u001b[0m\u001b[0;34m)\u001b[0m\u001b[0;34m\u001b[0m\u001b[0;34m\u001b[0m\u001b[0m\n\u001b[0m\u001b[1;32m   1176\u001b[0m         \u001b[0;32melif\u001b[0m \u001b[0misinstance\u001b[0m\u001b[0;34m(\u001b[0m\u001b[0mfile\u001b[0m\u001b[0;34m,\u001b[0m \u001b[0mint\u001b[0m\u001b[0;34m)\u001b[0m\u001b[0;34m:\u001b[0m\u001b[0;34m\u001b[0m\u001b[0;34m\u001b[0m\u001b[0m\n\u001b[1;32m   1177\u001b[0m             \u001b[0mfile_ptr\u001b[0m \u001b[0;34m=\u001b[0m \u001b[0m_snd\u001b[0m\u001b[0;34m.\u001b[0m\u001b[0msf_open_fd\u001b[0m\u001b[0;34m(\u001b[0m\u001b[0mfile\u001b[0m\u001b[0;34m,\u001b[0m \u001b[0mmode_int\u001b[0m\u001b[0;34m,\u001b[0m \u001b[0mself\u001b[0m\u001b[0;34m.\u001b[0m\u001b[0m_info\u001b[0m\u001b[0;34m,\u001b[0m \u001b[0mclosefd\u001b[0m\u001b[0;34m)\u001b[0m\u001b[0;34m\u001b[0m\u001b[0;34m\u001b[0m\u001b[0m\n",
            "\u001b[0;31mKeyboardInterrupt\u001b[0m: "
          ]
        }
      ],
      "source": [
        "import gc\n",
        "torch.cuda.empty_cache()\n",
        "gc.collect()\n",
        "model, loss, optim, scheduler, epoch, train_losses, valid_losses = init_model()\n",
        "\n",
        "\n",
        "for i in range(epoch, epochs):\n",
        "    train_loss, train_acc = train(model, optim, loss, scheduler, loaders['train'], i, device)\n",
        "    train_losses.append(train_loss)\n",
        "\n",
        "    valid_loss, valid_acc = test(model, loss, loaders['valid'], i, device, best_acc)\n",
        "    valid_losses.append(valid_loss)\n",
        "\n",
        "    best_acc = max(best_acc, valid_acc)\n",
        "    best_epoch = i if best_acc == valid_acc else best_epoch\n",
        "\n",
        "    if i == 0 or valid_loss < np.min(valid_losses):\n",
        "        best_epoch = i\n",
        "        best_valid_loss = valid_loss\n",
        "        if i > 0:\n",
        "            prev_best_path = best_path\n",
        "        best_path = os.path.join(savedir, datetime.now().strftime('{0}_{1:.3f}_%Y-%m-%d_%H-%M-%S'.format(epoch, valid_loss)))\n",
        "        save(best_path)\n",
        "            \n",
        "    plt.figure(figsize=(18, 9))\n",
        "    plt.plot(np.arange(len(train_losses)), train_losses, label=f'Train, loss: {train_loss:.4f}, acc: {train_acc:.5f}')\n",
        "    plt.plot(np.arange(len(valid_losses)), valid_losses, label=f'Test, loss: {valid_loss:.4f}, acc: {valid_acc: .5f}')\n",
        "    plt.title(f'Epoch {i}')\n",
        "    plt.legend(loc='best')\n",
        "    plt.show()"
      ]
    },
    {
      "cell_type": "markdown",
      "source": [
        "# WanDB"
      ],
      "metadata": {
        "id": "ku-4-u4Z_wmI"
      }
    },
    {
      "cell_type": "code",
      "source": [
        "!wandb login"
      ],
      "metadata": {
        "colab": {
          "base_uri": "https://localhost:8080/"
        },
        "id": "dmSwSKzmAF4t",
        "outputId": "df836e23-e9e9-4a6f-840c-694d6ad02543"
      },
      "execution_count": null,
      "outputs": [
        {
          "output_type": "stream",
          "name": "stdout",
          "text": [
            "\u001b[34m\u001b[1mwandb\u001b[0m: Logging into wandb.ai. (Learn how to deploy a W&B server locally: https://wandb.me/wandb-server)\n",
            "\u001b[34m\u001b[1mwandb\u001b[0m: You can find your API key in your browser here: https://wandb.ai/authorize\n",
            "\u001b[34m\u001b[1mwandb\u001b[0m: Paste an API key from your profile and hit enter, or press ctrl+c to quit: \n",
            "\u001b[34m\u001b[1mwandb\u001b[0m: Appending key for api.wandb.ai to your netrc file: /root/.netrc\n"
          ]
        }
      ]
    },
    {
      "cell_type": "code",
      "source": [
        "import wandb\n",
        "wandb.config = {\n",
        "  \"learning_rate\": 0.001,\n",
        "  \"epochs\": 100,\n",
        "  \"batch_size\": 128\n",
        "}"
      ],
      "metadata": {
        "id": "9TBCqd1lAHYn"
      },
      "execution_count": null,
      "outputs": []
    },
    {
      "cell_type": "code",
      "source": [
        ""
      ],
      "metadata": {
        "colab": {
          "base_uri": "https://localhost:8080/",
          "height": 347
        },
        "id": "vg2lYFcGAPQm",
        "outputId": "2bf0f838-8d73-4513-897a-29edffc204ac"
      },
      "execution_count": null,
      "outputs": [
        {
          "output_type": "error",
          "ename": "Error",
          "evalue": "ignored",
          "traceback": [
            "\u001b[0;31m---------------------------------------------------------------------------\u001b[0m",
            "\u001b[0;31mError\u001b[0m                                     Traceback (most recent call last)",
            "\u001b[0;32m<ipython-input-161-c6f7f690bdd6>\u001b[0m in \u001b[0;36m<module>\u001b[0;34m()\u001b[0m\n\u001b[0;32m----> 1\u001b[0;31m \u001b[0mwandb\u001b[0m\u001b[0;34m.\u001b[0m\u001b[0mlog\u001b[0m\u001b[0;34m(\u001b[0m\u001b[0;34m{\u001b[0m\u001b[0;34m\"loss\"\u001b[0m\u001b[0;34m:\u001b[0m \u001b[0mloss\u001b[0m\u001b[0;34m}\u001b[0m\u001b[0;34m)\u001b[0m\u001b[0;34m\u001b[0m\u001b[0;34m\u001b[0m\u001b[0m\n\u001b[0m\u001b[1;32m      2\u001b[0m \u001b[0;34m\u001b[0m\u001b[0m\n\u001b[1;32m      3\u001b[0m \u001b[0;31m# Optional\u001b[0m\u001b[0;34m\u001b[0m\u001b[0;34m\u001b[0m\u001b[0;34m\u001b[0m\u001b[0m\n\u001b[1;32m      4\u001b[0m \u001b[0mwandb\u001b[0m\u001b[0;34m.\u001b[0m\u001b[0mwatch\u001b[0m\u001b[0;34m(\u001b[0m\u001b[0mmodel\u001b[0m\u001b[0;34m)\u001b[0m\u001b[0;34m\u001b[0m\u001b[0;34m\u001b[0m\u001b[0m\n",
            "\u001b[0;32m/usr/local/lib/python3.7/dist-packages/wandb/sdk/lib/preinit.py\u001b[0m in \u001b[0;36mpreinit_wrapper\u001b[0;34m(*args, **kwargs)\u001b[0m\n\u001b[1;32m     34\u001b[0m ) -> Callable:\n\u001b[1;32m     35\u001b[0m     \u001b[0;32mdef\u001b[0m \u001b[0mpreinit_wrapper\u001b[0m\u001b[0;34m(\u001b[0m\u001b[0;34m*\u001b[0m\u001b[0margs\u001b[0m\u001b[0;34m:\u001b[0m \u001b[0mAny\u001b[0m\u001b[0;34m,\u001b[0m \u001b[0;34m**\u001b[0m\u001b[0mkwargs\u001b[0m\u001b[0;34m:\u001b[0m \u001b[0mAny\u001b[0m\u001b[0;34m)\u001b[0m \u001b[0;34m->\u001b[0m \u001b[0mAny\u001b[0m\u001b[0;34m:\u001b[0m\u001b[0;34m\u001b[0m\u001b[0;34m\u001b[0m\u001b[0m\n\u001b[0;32m---> 36\u001b[0;31m         \u001b[0;32mraise\u001b[0m \u001b[0mwandb\u001b[0m\u001b[0;34m.\u001b[0m\u001b[0mError\u001b[0m\u001b[0;34m(\u001b[0m\u001b[0;34mf\"You must call wandb.init() before {name}()\"\u001b[0m\u001b[0;34m)\u001b[0m\u001b[0;34m\u001b[0m\u001b[0;34m\u001b[0m\u001b[0m\n\u001b[0m\u001b[1;32m     37\u001b[0m \u001b[0;34m\u001b[0m\u001b[0m\n\u001b[1;32m     38\u001b[0m     \u001b[0mpreinit_wrapper\u001b[0m\u001b[0;34m.\u001b[0m\u001b[0m__name__\u001b[0m \u001b[0;34m=\u001b[0m \u001b[0mstr\u001b[0m\u001b[0;34m(\u001b[0m\u001b[0mname\u001b[0m\u001b[0;34m)\u001b[0m\u001b[0;34m\u001b[0m\u001b[0;34m\u001b[0m\u001b[0m\n",
            "\u001b[0;31mError\u001b[0m: You must call wandb.init() before wandb.log()"
          ]
        }
      ]
    },
    {
      "cell_type": "code",
      "source": [
        ""
      ],
      "metadata": {
        "id": "KbFx_dbCAWzN"
      },
      "execution_count": null,
      "outputs": []
    }
  ],
  "metadata": {
    "accelerator": "GPU",
    "colab": {
      "collapsed_sections": [],
      "name": "Копия блокнота \"NN_practise.ipynb\"",
      "provenance": []
    },
    "gpuClass": "standard",
    "kernelspec": {
      "display_name": "Python 3",
      "name": "python3"
    },
    "language_info": {
      "name": "python"
    },
    "widgets": {
      "application/vnd.jupyter.widget-state+json": {
        "ad907e7f1ea34e77a840cdf3e58b09e2": {
          "model_module": "@jupyter-widgets/controls",
          "model_name": "HBoxModel",
          "model_module_version": "1.5.0",
          "state": {
            "_dom_classes": [],
            "_model_module": "@jupyter-widgets/controls",
            "_model_module_version": "1.5.0",
            "_model_name": "HBoxModel",
            "_view_count": null,
            "_view_module": "@jupyter-widgets/controls",
            "_view_module_version": "1.5.0",
            "_view_name": "HBoxView",
            "box_style": "",
            "children": [
              "IPY_MODEL_3bb5e50fdb0e4044869ad1ed73812a47",
              "IPY_MODEL_916ec505eec24b5ab4625e6295e74730",
              "IPY_MODEL_18cdcddc953642ed890d3152b080249f"
            ],
            "layout": "IPY_MODEL_36be980b68f844c89fb984cdc5ea09a4"
          }
        },
        "3bb5e50fdb0e4044869ad1ed73812a47": {
          "model_module": "@jupyter-widgets/controls",
          "model_name": "HTMLModel",
          "model_module_version": "1.5.0",
          "state": {
            "_dom_classes": [],
            "_model_module": "@jupyter-widgets/controls",
            "_model_module_version": "1.5.0",
            "_model_name": "HTMLModel",
            "_view_count": null,
            "_view_module": "@jupyter-widgets/controls",
            "_view_module_version": "1.5.0",
            "_view_name": "HTMLView",
            "description": "",
            "description_tooltip": null,
            "layout": "IPY_MODEL_db7c8b47dfcf4b299cb3676379a2b26b",
            "placeholder": "​",
            "style": "IPY_MODEL_f56c56a9a2144d268e826e2e7d498339",
            "value": "  1%"
          }
        },
        "916ec505eec24b5ab4625e6295e74730": {
          "model_module": "@jupyter-widgets/controls",
          "model_name": "FloatProgressModel",
          "model_module_version": "1.5.0",
          "state": {
            "_dom_classes": [],
            "_model_module": "@jupyter-widgets/controls",
            "_model_module_version": "1.5.0",
            "_model_name": "FloatProgressModel",
            "_view_count": null,
            "_view_module": "@jupyter-widgets/controls",
            "_view_module_version": "1.5.0",
            "_view_name": "ProgressView",
            "bar_style": "danger",
            "description": "",
            "description_tooltip": null,
            "layout": "IPY_MODEL_17f289faccbc4388b1a7ea1c763bf19a",
            "max": 153,
            "min": 0,
            "orientation": "horizontal",
            "style": "IPY_MODEL_7d551109ce874e99a854d6e42dc0938f",
            "value": 1
          }
        },
        "18cdcddc953642ed890d3152b080249f": {
          "model_module": "@jupyter-widgets/controls",
          "model_name": "HTMLModel",
          "model_module_version": "1.5.0",
          "state": {
            "_dom_classes": [],
            "_model_module": "@jupyter-widgets/controls",
            "_model_module_version": "1.5.0",
            "_model_name": "HTMLModel",
            "_view_count": null,
            "_view_module": "@jupyter-widgets/controls",
            "_view_module_version": "1.5.0",
            "_view_name": "HTMLView",
            "description": "",
            "description_tooltip": null,
            "layout": "IPY_MODEL_0542d2cf47f24ce2a3596ef3ede28981",
            "placeholder": "​",
            "style": "IPY_MODEL_20fc15bc388d48df8cc59e4ae19b9761",
            "value": " 1/153 [00:03&lt;06:23,  2.52s/it]"
          }
        },
        "36be980b68f844c89fb984cdc5ea09a4": {
          "model_module": "@jupyter-widgets/base",
          "model_name": "LayoutModel",
          "model_module_version": "1.2.0",
          "state": {
            "_model_module": "@jupyter-widgets/base",
            "_model_module_version": "1.2.0",
            "_model_name": "LayoutModel",
            "_view_count": null,
            "_view_module": "@jupyter-widgets/base",
            "_view_module_version": "1.2.0",
            "_view_name": "LayoutView",
            "align_content": null,
            "align_items": null,
            "align_self": null,
            "border": null,
            "bottom": null,
            "display": null,
            "flex": null,
            "flex_flow": null,
            "grid_area": null,
            "grid_auto_columns": null,
            "grid_auto_flow": null,
            "grid_auto_rows": null,
            "grid_column": null,
            "grid_gap": null,
            "grid_row": null,
            "grid_template_areas": null,
            "grid_template_columns": null,
            "grid_template_rows": null,
            "height": null,
            "justify_content": null,
            "justify_items": null,
            "left": null,
            "margin": null,
            "max_height": null,
            "max_width": null,
            "min_height": null,
            "min_width": null,
            "object_fit": null,
            "object_position": null,
            "order": null,
            "overflow": null,
            "overflow_x": null,
            "overflow_y": null,
            "padding": null,
            "right": null,
            "top": null,
            "visibility": null,
            "width": null
          }
        },
        "db7c8b47dfcf4b299cb3676379a2b26b": {
          "model_module": "@jupyter-widgets/base",
          "model_name": "LayoutModel",
          "model_module_version": "1.2.0",
          "state": {
            "_model_module": "@jupyter-widgets/base",
            "_model_module_version": "1.2.0",
            "_model_name": "LayoutModel",
            "_view_count": null,
            "_view_module": "@jupyter-widgets/base",
            "_view_module_version": "1.2.0",
            "_view_name": "LayoutView",
            "align_content": null,
            "align_items": null,
            "align_self": null,
            "border": null,
            "bottom": null,
            "display": null,
            "flex": null,
            "flex_flow": null,
            "grid_area": null,
            "grid_auto_columns": null,
            "grid_auto_flow": null,
            "grid_auto_rows": null,
            "grid_column": null,
            "grid_gap": null,
            "grid_row": null,
            "grid_template_areas": null,
            "grid_template_columns": null,
            "grid_template_rows": null,
            "height": null,
            "justify_content": null,
            "justify_items": null,
            "left": null,
            "margin": null,
            "max_height": null,
            "max_width": null,
            "min_height": null,
            "min_width": null,
            "object_fit": null,
            "object_position": null,
            "order": null,
            "overflow": null,
            "overflow_x": null,
            "overflow_y": null,
            "padding": null,
            "right": null,
            "top": null,
            "visibility": null,
            "width": null
          }
        },
        "f56c56a9a2144d268e826e2e7d498339": {
          "model_module": "@jupyter-widgets/controls",
          "model_name": "DescriptionStyleModel",
          "model_module_version": "1.5.0",
          "state": {
            "_model_module": "@jupyter-widgets/controls",
            "_model_module_version": "1.5.0",
            "_model_name": "DescriptionStyleModel",
            "_view_count": null,
            "_view_module": "@jupyter-widgets/base",
            "_view_module_version": "1.2.0",
            "_view_name": "StyleView",
            "description_width": ""
          }
        },
        "17f289faccbc4388b1a7ea1c763bf19a": {
          "model_module": "@jupyter-widgets/base",
          "model_name": "LayoutModel",
          "model_module_version": "1.2.0",
          "state": {
            "_model_module": "@jupyter-widgets/base",
            "_model_module_version": "1.2.0",
            "_model_name": "LayoutModel",
            "_view_count": null,
            "_view_module": "@jupyter-widgets/base",
            "_view_module_version": "1.2.0",
            "_view_name": "LayoutView",
            "align_content": null,
            "align_items": null,
            "align_self": null,
            "border": null,
            "bottom": null,
            "display": null,
            "flex": null,
            "flex_flow": null,
            "grid_area": null,
            "grid_auto_columns": null,
            "grid_auto_flow": null,
            "grid_auto_rows": null,
            "grid_column": null,
            "grid_gap": null,
            "grid_row": null,
            "grid_template_areas": null,
            "grid_template_columns": null,
            "grid_template_rows": null,
            "height": null,
            "justify_content": null,
            "justify_items": null,
            "left": null,
            "margin": null,
            "max_height": null,
            "max_width": null,
            "min_height": null,
            "min_width": null,
            "object_fit": null,
            "object_position": null,
            "order": null,
            "overflow": null,
            "overflow_x": null,
            "overflow_y": null,
            "padding": null,
            "right": null,
            "top": null,
            "visibility": null,
            "width": null
          }
        },
        "7d551109ce874e99a854d6e42dc0938f": {
          "model_module": "@jupyter-widgets/controls",
          "model_name": "ProgressStyleModel",
          "model_module_version": "1.5.0",
          "state": {
            "_model_module": "@jupyter-widgets/controls",
            "_model_module_version": "1.5.0",
            "_model_name": "ProgressStyleModel",
            "_view_count": null,
            "_view_module": "@jupyter-widgets/base",
            "_view_module_version": "1.2.0",
            "_view_name": "StyleView",
            "bar_color": null,
            "description_width": ""
          }
        },
        "0542d2cf47f24ce2a3596ef3ede28981": {
          "model_module": "@jupyter-widgets/base",
          "model_name": "LayoutModel",
          "model_module_version": "1.2.0",
          "state": {
            "_model_module": "@jupyter-widgets/base",
            "_model_module_version": "1.2.0",
            "_model_name": "LayoutModel",
            "_view_count": null,
            "_view_module": "@jupyter-widgets/base",
            "_view_module_version": "1.2.0",
            "_view_name": "LayoutView",
            "align_content": null,
            "align_items": null,
            "align_self": null,
            "border": null,
            "bottom": null,
            "display": null,
            "flex": null,
            "flex_flow": null,
            "grid_area": null,
            "grid_auto_columns": null,
            "grid_auto_flow": null,
            "grid_auto_rows": null,
            "grid_column": null,
            "grid_gap": null,
            "grid_row": null,
            "grid_template_areas": null,
            "grid_template_columns": null,
            "grid_template_rows": null,
            "height": null,
            "justify_content": null,
            "justify_items": null,
            "left": null,
            "margin": null,
            "max_height": null,
            "max_width": null,
            "min_height": null,
            "min_width": null,
            "object_fit": null,
            "object_position": null,
            "order": null,
            "overflow": null,
            "overflow_x": null,
            "overflow_y": null,
            "padding": null,
            "right": null,
            "top": null,
            "visibility": null,
            "width": null
          }
        },
        "20fc15bc388d48df8cc59e4ae19b9761": {
          "model_module": "@jupyter-widgets/controls",
          "model_name": "DescriptionStyleModel",
          "model_module_version": "1.5.0",
          "state": {
            "_model_module": "@jupyter-widgets/controls",
            "_model_module_version": "1.5.0",
            "_model_name": "DescriptionStyleModel",
            "_view_count": null,
            "_view_module": "@jupyter-widgets/base",
            "_view_module_version": "1.2.0",
            "_view_name": "StyleView",
            "description_width": ""
          }
        }
      }
    }
  },
  "nbformat": 4,
  "nbformat_minor": 0
}